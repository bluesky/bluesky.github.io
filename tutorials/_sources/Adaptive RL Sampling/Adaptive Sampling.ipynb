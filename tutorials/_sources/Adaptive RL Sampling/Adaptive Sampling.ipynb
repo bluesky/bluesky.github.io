{
 "cells": [
  {
   "cell_type": "markdown",
   "id": "3593f4f2",
   "metadata": {},
   "source": [
    "# Adaptive Sampling\n",
    "\n",
    "In this tutorial you will learn:\n",
    "    \n",
    "1. Basic acquisition using the BlueSky RunEngine\n",
    "2. Generating basic acquisition plans for multiple sample environments on a simulated diffraction beamline\n",
    "3. How to use the Bluesky Adaptive harness to readily integrate AI-agents with the beamline\n",
    "4. Demonstration of Reinforcement Learning (RL) being used to optimize data collection strategies\n",
    "\n",
    "\n",
    "For more bluesky tutorials, go to https://blueskyproject.io/tutorials."
   ]
  },
  {
   "cell_type": "markdown",
   "id": "5712348e",
   "metadata": {},
   "source": [
    "<img src=\"_static/BS_layout.png\" alt=\"Bluesky flow diagram\" style=\"width: 600px;\"/>  [(image source)](https://iopscience.iop.org/article/10.1088/2632-2153/abc9fc)"
   ]
  },
  {
   "cell_type": "markdown",
   "id": "f970cc68",
   "metadata": {},
   "source": [
    "## Some of the software we use:\n",
    "\n",
    "* **Bluesky RunEngine** for experiment orchestration (sequencing)\n",
    "* **Bluesky Ophyd** for device integration (for this demo, a simulated detector)\n",
    "* **Bluesky Widgets** components for live-updating (\"streaming\") visualization\n",
    "* **Matplotlib** for visualization\n",
    "* **Bluesky Adaptive**, an adaptive \"harness\" for integrating an Agent in a feedback loop with the Bluesky RunEngine\n",
    "* **Tensorflow** for the model"
   ]
  },
  {
   "cell_type": "code",
   "execution_count": null,
   "id": "cbdeb8b6",
   "metadata": {},
   "outputs": [],
   "source": [
    "%matplotlib widget\n",
    "\n",
    "import matplotlib.pyplot as plt"
   ]
  },
  {
   "cell_type": "code",
   "execution_count": null,
   "id": "65dd420e",
   "metadata": {},
   "outputs": [],
   "source": [
    "from bluesky import RunEngine\n",
    "from bluesky.plans import count\n",
    "from utils.simulated_hardware import detector, sample_selector, select_sample\n",
    "from utils.visualization import stream_to_figures\n",
    "from utils.adaptive_recommendations import with_agent\n",
    "\n",
    "detector.delay = 1"
   ]
  },
  {
   "cell_type": "markdown",
   "id": "bf215ba5",
   "metadata": {},
   "source": [
    "## Make a \"RunEngine\"\n",
    "\n",
    "The RunEngine is responsible for orchestrating the operation of the beamline.  It\n",
    "\n",
    "* Processes a set of instructions (a \"plan\") from the user\n",
    "* Direct hardware, tracks what is moving when, and tries to clean up correct in the event of success or failures\n",
    "* Emits metadata and data in a streaming fashion for consumers (plots, models, storage, etc.)"
   ]
  },
  {
   "cell_type": "code",
   "execution_count": null,
   "id": "710c11ca",
   "metadata": {
    "pycharm": {
     "name": "#%%\n"
    }
   },
   "outputs": [],
   "source": [
    "RE = RunEngine()"
   ]
  },
  {
   "cell_type": "markdown",
   "id": "edde91d3",
   "metadata": {},
   "source": [
    "We can now use RunEngine to move things and it collect data."
   ]
  },
  {
   "cell_type": "markdown",
   "id": "3f36bb30",
   "metadata": {},
   "source": [
    "## Switch between samples"
   ]
  },
  {
   "cell_type": "markdown",
   "id": "4bbff9c5",
   "metadata": {},
   "source": [
    "For this tutorial, we will be moving a <code>sample_selector</code> ophyd device, which can switch between samples on our simulated beamline.  We can read the current status of the motor to see which sample we are currently on."
   ]
  },
  {
   "cell_type": "code",
   "execution_count": null,
   "id": "49240895",
   "metadata": {},
   "outputs": [],
   "source": [
    "sample_selector.read()"
   ]
  },
  {
   "cell_type": "markdown",
   "id": "aa61cc5a",
   "metadata": {},
   "source": [
    "To move this motor, we could use the built-in bluesky <code>mv</code> plan..."
   ]
  },
  {
   "cell_type": "code",
   "execution_count": null,
   "id": "3beb6c37",
   "metadata": {},
   "outputs": [],
   "source": [
    "from bluesky.plan_stubs import mv\n",
    "\n",
    "RE(mv(sample_selector, 2))\n",
    "\n",
    "sample_selector.read()"
   ]
  },
  {
   "cell_type": "markdown",
   "id": "3d90d7ac",
   "metadata": {},
   "source": [
    "Or, we can write our own custom plan with whatever language and extensions we wish."
   ]
  },
  {
   "cell_type": "code",
   "execution_count": null,
   "id": "1644156b",
   "metadata": {},
   "outputs": [],
   "source": [
    "def select_sample(sample_number, *, verbose=False):\n",
    "    if verbose:\n",
    "        print(f\"Moving to sample {sample_number}\")\n",
    "    yield from mv(sample_selector, sample_number)"
   ]
  },
  {
   "cell_type": "code",
   "execution_count": null,
   "id": "fe71b942",
   "metadata": {},
   "outputs": [],
   "source": [
    "RE(select_sample(0, verbose=True))  # This moves a sample positioner to place Sample 0 in the beam."
   ]
  },
  {
   "cell_type": "markdown",
   "id": "5c3b45e9",
   "metadata": {},
   "source": [
    "## Acquire images"
   ]
  },
  {
   "cell_type": "markdown",
   "id": "a45b0347",
   "metadata": {},
   "source": [
    "In this tutorial, we are focused on live streaming data as published by the RunEngine and formatted in the [event-model](https://blueskyproject.io/event-model/).  As such, we're going to setup our visualization first, and then stream data in as we are measuring.  \n",
    "\n",
    "Functionally, this involves creating a figure and axes with Matplotlib, and then wrapping them in a callback function.  The callback function will be streamed the documents as they are emitted by the RunEngine, unpack the documents, and update the visualization.\n",
    "\n",
    "When the cell below is first run, you should see a checkerboard pattern and some basic metadata in the title (sample number, and number of shots on the sample)."
   ]
  },
  {
   "cell_type": "code",
   "execution_count": null,
   "id": "2d4988fc",
   "metadata": {},
   "outputs": [],
   "source": [
    "fig, axes = plt.subplots(squeeze=False, constrained_layout=True, figsize=(5, 5))\n",
    "callback = stream_to_figures(fig, axes)"
   ]
  },
  {
   "cell_type": "markdown",
   "id": "974d9229",
   "metadata": {},
   "source": [
    "Now we can select the sample we want and pass a <code>count</code> plan into the run engine.   \n",
    "\n",
    "<code>count</code> is the most basic acquisition plan in Bluesky.  It takes as an argument a list of detectors.  In this case, we will pass it both the <code>detector</code> and the `sample_selector` ophyd objects.  In this way, the emitted documents will automatically contain both the image data from the detector and the sample number associated with this data (important metadata)."
   ]
  },
  {
   "cell_type": "code",
   "execution_count": null,
   "id": "41a52db0",
   "metadata": {},
   "outputs": [],
   "source": [
    "RE(select_sample(0))"
   ]
  },
  {
   "cell_type": "code",
   "execution_count": null,
   "id": "1a7671d0",
   "metadata": {},
   "outputs": [],
   "source": [
    "RE(count([sample_selector, detector]), callback)"
   ]
  },
  {
   "cell_type": "markdown",
   "id": "16d464a7",
   "metadata": {},
   "source": [
    "If everything worked, you should have seen a diffraction pattern appear on the visualization, with the associated sample number (\"Sample 0\") in the image title.  This data is pulled from the streaming documents emitted by the RunEngine - we didn't have to go get them and fully process them later!\n",
    "\n",
    "Note that if you look at the immidiate output of the cell, you should see a long-string of letters and numbers.  This serves as a universally unique identifier (uuid) for that particular measurment that will never be repeated.  These uuids can be used as book-keeping identifiers for later data lookup, but that is beyond the scope of this tutorial.\n",
    "\n",
    "So, what happens if we measure the same sample again?"
   ]
  },
  {
   "cell_type": "code",
   "execution_count": null,
   "id": "c1e0bbfc",
   "metadata": {},
   "outputs": [],
   "source": [
    "RE(count([sample_selector, detector]), callback)"
   ]
  },
  {
   "cell_type": "markdown",
   "id": "5e16de8f",
   "metadata": {},
   "source": [
    "The <code>stream_to_figures</code> callback we have setup here contains logic to average additional measurements of the same sample together.  As such, you may have noticed that the image quality improved slightly when this second measurement was performed.  The \"N_shots\" quantity in the plot title also reflects this number of shots on sample increasing.\n",
    "\n",
    "You can try re-running that cell several times if you'd like, but we can expect little visual change.  This is because sample 0 happens to be a 'strong' scatterer, and it's resultant signal-to-noise quality is good over the background.  In fact, even a single exposure produced an image with sufficient contrast to interpret scientifically.\n",
    "\n",
    "Next, let's set up a new figure, move to the next sample, and take a measurement."
   ]
  },
  {
   "cell_type": "code",
   "execution_count": null,
   "id": "cbc8b763",
   "metadata": {},
   "outputs": [],
   "source": [
    "fig, axes = plt.subplots(squeeze=False, constrained_layout=True, figsize=(5, 5))\n",
    "callback = stream_to_figures(fig, axes, start_at=1)"
   ]
  },
  {
   "cell_type": "code",
   "execution_count": null,
   "id": "46b44799",
   "metadata": {},
   "outputs": [],
   "source": [
    "RE(select_sample(1, verbose=True))"
   ]
  },
  {
   "cell_type": "code",
   "execution_count": null,
   "id": "8a1f9332",
   "metadata": {},
   "outputs": [],
   "source": [
    "RE(count([sample_selector, detector]), callback)"
   ]
  },
  {
   "cell_type": "markdown",
   "id": "33091105",
   "metadata": {},
   "source": [
    "This sample doesn't look nearly as good as the first one! It gives a weak signal (low signal-to-noise ratio). A single exposure does not produce sufficient contrast, but we can take additional exposures. The visualization above will display the average of all the exposures of this sample.\n",
    "\n",
    "We could do that by hand, re-running the above cell several times.  Or, we could write a custom plan to do this.  Let's go with the latter as it's less tedious to manage.  Plus, we can take advantage of the ability to use plans in other plans!  "
   ]
  },
  {
   "cell_type": "code",
   "execution_count": null,
   "id": "f6ebe5e9",
   "metadata": {},
   "outputs": [],
   "source": [
    "def multi_count(num_counts):\n",
    "    for i in range(num_counts):\n",
    "        print(f\"Exposure number {i}\")\n",
    "        yield from count([sample_selector, detector])"
   ]
  },
  {
   "cell_type": "markdown",
   "id": "a9f33fe0",
   "metadata": {},
   "source": [
    "Note that we didn't have to know anything about how the guts of `count` worked, and we even made the decision to hardcode `detector` and `sample_selector` into the plan (though we wouldn't need to, it's up to how you want to write the plan)."
   ]
  },
  {
   "cell_type": "code",
   "execution_count": null,
   "id": "4a41a205",
   "metadata": {},
   "outputs": [],
   "source": [
    "unique_ids = RE(multi_count(5), callback)"
   ]
  },
  {
   "cell_type": "markdown",
   "id": "705193c5",
   "metadata": {},
   "source": [
    "Now the statistics on that weakly-scattering sample are starting to look better!  "
   ]
  },
  {
   "cell_type": "markdown",
   "id": "96de8fb3",
   "metadata": {},
   "source": [
    "## Acquire images for more than one sample\n",
    "\n",
    "We've already seen that samples 0 and 1 represent a strong and weakly scatterer respectively.  Let's say that based off these initial observations, we decide that the poorly-scattering sample need to be measured by some ratio (e.g. 4x) as often as good scattering samples.  We probably also want to be able to define how many total loops to complete over both samples at the desired measurement ratio.\n",
    "\n",
    "Let's write a plan!\n"
   ]
  },
  {
   "cell_type": "code",
   "execution_count": null,
   "id": "c413a065",
   "metadata": {},
   "outputs": [],
   "source": [
    "def multi_sample_plan(measure_ratio, total_loops=1):\n",
    "    for i in range(total_loops):\n",
    "        print(f\"* Now on big loop {i}\")\n",
    "        yield from select_sample(0, verbose=True)\n",
    "        yield from count([sample_selector, detector])\n",
    "        yield from select_sample(1, verbose=True)\n",
    "        for _ in range(measure_ratio):\n",
    "            yield from count([sample_selector, detector])"
   ]
  },
  {
   "cell_type": "markdown",
   "id": "c716d098",
   "metadata": {},
   "source": [
    "To make the visualization easier, let's setup a callback that can display both samples at once as the data is streamed."
   ]
  },
  {
   "cell_type": "code",
   "execution_count": null,
   "id": "f35195f2",
   "metadata": {},
   "outputs": [],
   "source": [
    "fig, axes = plt.subplots(1, 2, squeeze=False, constrained_layout=True, figsize=(5, 3))\n",
    "callback = stream_to_figures(fig, axes)"
   ]
  },
  {
   "cell_type": "code",
   "execution_count": null,
   "id": "d1745f7b",
   "metadata": {},
   "outputs": [],
   "source": [
    "unique_ids = RE(multi_sample_plan(4, total_loops=2), callback)"
   ]
  },
  {
   "cell_type": "markdown",
   "id": "a65f2207",
   "metadata": {},
   "source": [
    "## Dealing with many, many samples.\n",
    "\n",
    "We have thus far been playing with just a couple of samples.  However, on the real PDF beamline at NSLS-II, we often load hundreds of different samples at one time.  And each of these samples could have very different scattering qualities!\n",
    "\n",
    "<img src=\"_static/multi_bracket.png\" alt=\"PDF High Capacity Sample Changer\" style=\"width: 600px;\"/> \n",
    "\n",
    "let's write a custom plan to 'sweep' all samples on the simulated bracket.  For this example, we'll pretend to have 9-samples.  We would like our plan to define the total number of individual shots to be taken."
   ]
  },
  {
   "cell_type": "code",
   "execution_count": null,
   "id": "0881517d",
   "metadata": {},
   "outputs": [],
   "source": [
    "def sequential_sweep(total_shots):\n",
    "    \"Sweep over the samples in order. Take up to `total_shots` shots.\"\n",
    "    for shot in range(total_shots):\n",
    "        yield from select_sample(shot % 9)\n",
    "        yield from count([sample_selector, detector])"
   ]
  },
  {
   "cell_type": "code",
   "execution_count": null,
   "id": "63d816be",
   "metadata": {},
   "outputs": [],
   "source": [
    "fig, axes = plt.subplots(3, 3, constrained_layout=True, figsize=(5, 5))\n",
    "callback = stream_to_figures(fig, axes)"
   ]
  },
  {
   "cell_type": "markdown",
   "id": "2dec96d0",
   "metadata": {},
   "source": [
    "Our simulated detector has a simulated \"delay\", standing in for the exposure and readout time in a real detector. Here we'll speed it up a bit just so the following examples runs faster."
   ]
  },
  {
   "cell_type": "code",
   "execution_count": null,
   "id": "eb3b74e6",
   "metadata": {},
   "outputs": [],
   "source": [
    "detector.delay = 0.2"
   ]
  },
  {
   "cell_type": "code",
   "execution_count": null,
   "id": "d5b2f7f9",
   "metadata": {},
   "outputs": [],
   "source": [
    "unique_ids = RE(sequential_sweep(total_shots=25), callback)"
   ]
  },
  {
   "cell_type": "markdown",
   "id": "74fb1c80",
   "metadata": {},
   "source": [
    "You no doubt have a combination of strong and weakly scattering samples.  Note that this arrangment is random, and if you restart this Notebook, will likely be different.  You could sit down and write a custom plan, based on the scattering strength of your unique simulated samples.  However, this would get to be tedious work if performed more than once or twice.  This is where AI can help us out!\n"
   ]
  },
  {
   "cell_type": "markdown",
   "id": "71475435",
   "metadata": {},
   "source": [
    "## Use `bluesky-adaptive` to let an Agent drive the experiment\n",
    "\n",
    "Here, we introduce the `bluesky-adaptive` plan.  This is a plan designed to readily interface with any sort of decision-making agent via an ask/tell interface.  More details of this plan design and implementation can be found at https://blueskyproject.io/bluesky-adaptive/\n",
    "\n",
    "We will take advantage of a plan here called `with_agent` which simplifies the interface here, but you can easily look at the details by digging into `with_agent??`\n",
    "\n",
    "### Agent 1: Naive Agent\n",
    "\n",
    "To begin with, let's use a naive sequential agent.  The goal of this agent is to, within a defined \"budget\" of time (i.e. scans), sequentially measure across each sample.  This is effectively exactly what our `sequential_sweep` plan above performed, but in the language of an agent in the `bluesky-adaptive` machinery.\n"
   ]
  },
  {
   "cell_type": "code",
   "execution_count": null,
   "id": "b3c90d41",
   "metadata": {},
   "outputs": [],
   "source": [
    "fig, axes = plt.subplots(3, 3, constrained_layout=True, figsize=(5, 5))\n",
    "callback = stream_to_figures(fig, axes)"
   ]
  },
  {
   "cell_type": "code",
   "execution_count": null,
   "id": "7208e541",
   "metadata": {},
   "outputs": [],
   "source": [
    "from utils.adaptive_recommendations import NaiveAgent\n",
    "\n",
    "NaiveAgent?"
   ]
  },
  {
   "cell_type": "code",
   "execution_count": null,
   "id": "bb3448f7",
   "metadata": {},
   "outputs": [],
   "source": [
    "unique_ids = RE(\n",
    "    with_agent(NaiveAgent(9), max_shots=30),\n",
    "    callback,\n",
    ")"
   ]
  },
  {
   "cell_type": "markdown",
   "id": "91a690d0",
   "metadata": {},
   "source": [
    "This works well functionally, but it's not a very efficient use of our time.  After all, we would really prefer to measure the weaker-scatterers many more times than the strong scatterers, in order to built up better statistics.  However, hand-writing a plan for every set of samples is not tractable.  Let's here use an agent trained using Reinforcement Learning to accomplish this task."
   ]
  },
  {
   "cell_type": "markdown",
   "id": "fa9d82bf",
   "metadata": {},
   "source": [
    "### Agent 2: Reinforcement Learning Agent\n",
    "\n"
   ]
  },
  {
   "cell_type": "markdown",
   "id": "6c70ceba",
   "metadata": {},
   "source": [
    "The details of how Reinforcement Learning (RL) works, or how we implemented it are beyond the scope of this short tutorial.  However, interested readers can find details of the method here https://iopscience.iop.org/article/10.1088/2632-2153/abc9fc. \n",
    "Essentially, the language of RL allows us to easily \"gamify\" our scientific goals.  \n",
    "\n",
    "<img src=\"_static/gamifying_PDF.jpg\" alt=\"Gamifying the Beamline\" style=\"width: 600px;\"/> \n",
    "\n",
    "Prior to this tutorial, we trained an RL agent to develop an optimal policy that would enable for the following goals:\n",
    "\n",
    "1.)  Measure each sample initially once \n",
    "\n",
    "2.)  Repeat measurements on the samples, but collecting on weak scatterers 9x, and strong 1x.\n",
    "\n",
    "3.)  Having now built up sufficient statistics on the weak scatterers, continue to measuring each sample sequentially.\n"
   ]
  },
  {
   "cell_type": "code",
   "execution_count": null,
   "id": "623201c0",
   "metadata": {},
   "outputs": [],
   "source": [
    "fig, axes = plt.subplots(3, 3, constrained_layout=True, figsize=(5, 5))\n",
    "callback = stream_to_figures(fig, axes)"
   ]
  },
  {
   "cell_type": "markdown",
   "id": "6c8a5a71",
   "metadata": {},
   "source": [
    "Note: Here we replace the RL agent with a lightweight Monte Carlo approximation. This enables this tutorial to run quickly, overcomes challenges with outdated versioning of the agent, and retains the Tensorforce agent code in this repository as an example. \n",
    "Nonetheless, from the standpoint of interfacing with Bluesky, we are again using the `Bluesky-adaptive` machinery and the `with_agent` helper plan."
   ]
  },
  {
   "cell_type": "code",
   "execution_count": null,
   "id": "d13a47bf",
   "metadata": {},
   "outputs": [],
   "source": [
    "from utils.adaptive_recommendations import RLAgent\n",
    "\n",
    "detector.delay = 1\n",
    "unique_ids = RE(\n",
    "    with_agent(RLAgent(9, \"tf_models/bluesky-tutorial/saved_models\"), max_shots=90),\n",
    "    callback,\n",
    ")"
   ]
  },
  {
   "cell_type": "markdown",
   "id": "edcc817f",
   "metadata": {},
   "source": [
    "Through the use of an RL agent, and `Bluesky-adaptive`, we have measured the data more efficiently than the naive sequential plan, spending more time on the samples that need extra attention!"
   ]
  },
  {
   "cell_type": "markdown",
   "id": "d66c911a",
   "metadata": {},
   "source": [
    "## Bonus Agents\n",
    "\n",
    "On your own try out these agents that are at the extremes of knowing _exactly_ what to do and knowing _nothing_ about what it should do.\n",
    "\n",
    "Any callable that matches the signature\n",
    "\n",
    "```python\n",
    "def recommend(sample_number, badness)->\n",
    "```"
   ]
  },
  {
   "cell_type": "markdown",
   "id": "491b42f6",
   "metadata": {},
   "source": [
    "### Agent 3: \"Cheating\" (Omniscient) Agent\n",
    "\n",
    "Just in case you want to try another agent, here is one who we have whispered the answer to ahead of time.  "
   ]
  },
  {
   "cell_type": "code",
   "execution_count": null,
   "id": "2340f848",
   "metadata": {},
   "outputs": [],
   "source": [
    "fig, axes = plt.subplots(3, 3, constrained_layout=True, figsize=(5, 5))\n",
    "callback = stream_to_figures(fig, axes)"
   ]
  },
  {
   "cell_type": "code",
   "execution_count": null,
   "id": "60eb6cee",
   "metadata": {},
   "outputs": [],
   "source": [
    "from utils.adaptive_recommendations import CheatingAgent\n",
    "\n",
    "unique_ids = RE(\n",
    "    with_agent(CheatingAgent(9), max_shots=90),\n",
    "    callback,\n",
    ")"
   ]
  },
  {
   "cell_type": "markdown",
   "id": "d77cdc13",
   "metadata": {},
   "source": [
    "Note the RL agent probably performed just as well as the agent which had the right answer, because it was train ahead of time how to \"play the game\" we defined through our scientific goals."
   ]
  },
  {
   "cell_type": "markdown",
   "id": "5cf20cbd",
   "metadata": {},
   "source": [
    "### Agent 4: \"Chaos\" (random) Agent\n",
    "\n",
    "Given this API we can plug in any logic we want to the plan, but that does not mean that the agent has to be good at its job!  For example we can write an agent that will randomly pick a sample to measure next:"
   ]
  },
  {
   "cell_type": "code",
   "execution_count": null,
   "id": "16f03eb0",
   "metadata": {},
   "outputs": [],
   "source": [
    "import random\n",
    "\n",
    "\n",
    "def chaos_agent(x, y):\n",
    "    # ignores input!\n",
    "    return random.choice(range(9))"
   ]
  },
  {
   "cell_type": "code",
   "execution_count": null,
   "id": "ce3bd024",
   "metadata": {},
   "outputs": [],
   "source": [
    "fig, axes = plt.subplots(3, 3, constrained_layout=True, figsize=(5, 5))\n",
    "callback = stream_to_figures(fig, axes)"
   ]
  },
  {
   "cell_type": "code",
   "execution_count": null,
   "id": "7476951a",
   "metadata": {},
   "outputs": [],
   "source": [
    "unique_ids = RE(\n",
    "    with_agent(chaos_agent, max_shots=30),\n",
    "    callback,\n",
    ")"
   ]
  },
  {
   "cell_type": "markdown",
   "id": "77ec01c0",
   "metadata": {},
   "source": [
    "You should see that measurements jump around between the samples.  Given that the samples are also randomly strong or weak this is not actually better or worse than a sequential scan in terms of over / under collecting on the samples, but if we take into account the time to move the motor maybe significantly worse!"
   ]
  }
 ],
 "metadata": {
  "kernelspec": {
   "display_name": "Python 3",
   "language": "python",
   "name": "python3"
  },
  "language_info": {
   "codemirror_mode": {
    "name": "ipython",
    "version": 3
   },
   "file_extension": ".py",
   "mimetype": "text/x-python",
   "name": "python",
   "nbconvert_exporter": "python",
   "pygments_lexer": "ipython3",
   "version": "3.7.8"
  }
 },
 "nbformat": 4,
 "nbformat_minor": 5
}
